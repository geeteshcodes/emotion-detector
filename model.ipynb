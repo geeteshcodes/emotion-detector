{
 "cells": [
  {
   "cell_type": "code",
   "execution_count": 12,
   "id": "46c0c422",
   "metadata": {},
   "outputs": [
    {
     "name": "stdout",
     "output_type": "stream",
     "text": [
      "<module 'tensorflow._api.v2.version' from 'c:\\\\Users\\\\roopa\\\\miniconda3\\\\envs\\\\tensorflow\\\\lib\\\\site-packages\\\\tensorflow\\\\_api\\\\v2\\\\version\\\\__init__.py'>\n",
      "[PhysicalDevice(name='/physical_device:GPU:0', device_type='GPU')]\n"
     ]
    }
   ],
   "source": [
    "import tensorflow as tf\n",
    "print(tf.version)\n",
    "print(tf.config.list_physical_devices('GPU'))"
   ]
  },
  {
   "cell_type": "code",
   "execution_count": 13,
   "id": "1d4f96a7",
   "metadata": {},
   "outputs": [
    {
     "name": "stdout",
     "output_type": "stream",
     "text": [
      "Found 28709 files belonging to 7 classes.\n",
      "Found 7178 files belonging to 7 classes.\n",
      "['angry', 'disgust', 'fear', 'happy', 'neutral', 'sad', 'surprise']\n"
     ]
    }
   ],
   "source": [
    "train_dataset=tf.keras.utils.image_dataset_from_directory(\"archive/train\",image_size=(48,48),color_mode=\"grayscale\",batch_size=32)\n",
    "val_dataset=tf.keras.utils.image_dataset_from_directory(\"archive//test\",image_size=(48,48),color_mode=\"grayscale\",batch_size=32)\n",
    "print(train_dataset.class_names)\n"
   ]
  },
  {
   "cell_type": "code",
   "execution_count": 14,
   "id": "fadeb89c",
   "metadata": {},
   "outputs": [],
   "source": [
    "normalization_layer=tf.keras.layers.Rescaling(1./255)\n",
    "#normalizes pixel values to 0-1\n",
    "train_dataset=train_dataset.map(lambda x,y:(normalization_layer(x),y))\n",
    "val_dataset=val_dataset.map(lambda x,y:(normalization_layer(x),y))\n",
    "#applies normalization to batches of image aka x and y(unchanged i.e labels of class)"
   ]
  },
  {
   "cell_type": "code",
   "execution_count": 15,
   "id": "5914770d",
   "metadata": {},
   "outputs": [
    {
     "name": "stdout",
     "output_type": "stream",
     "text": [
      "WARNING:tensorflow:Using a while_loop for converting RngReadAndSkip cause there is no registered converter for this op.\n",
      "WARNING:tensorflow:Using a while_loop for converting Bitcast cause there is no registered converter for this op.\n",
      "WARNING:tensorflow:Using a while_loop for converting Bitcast cause there is no registered converter for this op.\n",
      "WARNING:tensorflow:Using a while_loop for converting StatelessRandomUniformV2 cause there is no registered converter for this op.\n",
      "WARNING:tensorflow:Using a while_loop for converting ImageProjectiveTransformV3 cause there is no registered converter for this op.\n",
      "WARNING:tensorflow:Using a while_loop for converting RngReadAndSkip cause there is no registered converter for this op.\n",
      "WARNING:tensorflow:Using a while_loop for converting Bitcast cause there is no registered converter for this op.\n",
      "WARNING:tensorflow:Using a while_loop for converting Bitcast cause there is no registered converter for this op.\n",
      "WARNING:tensorflow:Using a while_loop for converting StatelessRandomUniformV2 cause there is no registered converter for this op.\n",
      "WARNING:tensorflow:Using a while_loop for converting ImageProjectiveTransformV3 cause there is no registered converter for this op.\n",
      "WARNING:tensorflow:Using a while_loop for converting RngReadAndSkip cause there is no registered converter for this op.\n",
      "WARNING:tensorflow:Using a while_loop for converting Bitcast cause there is no registered converter for this op.\n",
      "WARNING:tensorflow:Using a while_loop for converting Bitcast cause there is no registered converter for this op.\n",
      "WARNING:tensorflow:Using a while_loop for converting StatelessRandomUniformV2 cause there is no registered converter for this op.\n",
      "WARNING:tensorflow:Using a while_loop for converting ImageProjectiveTransformV3 cause there is no registered converter for this op.\n",
      "WARNING:tensorflow:Using a while_loop for converting RngReadAndSkip cause there is no registered converter for this op.\n",
      "WARNING:tensorflow:Using a while_loop for converting Bitcast cause there is no registered converter for this op.\n",
      "WARNING:tensorflow:Using a while_loop for converting Bitcast cause there is no registered converter for this op.\n",
      "WARNING:tensorflow:Using a while_loop for converting StatelessRandomUniformV2 cause there is no registered converter for this op.\n",
      "WARNING:tensorflow:Using a while_loop for converting ImageProjectiveTransformV3 cause there is no registered converter for this op.\n"
     ]
    }
   ],
   "source": [
    "#add agumentation\n",
    "data_agumentation=tf.keras.Sequential([\n",
    "    tf.keras.layers.RandomFlip(\"horizontal\"),\n",
    "    tf.keras.layers.RandomRotation(0.1),\n",
    "    tf.keras.layers.RandomZoom(0.1),\n",
    "])\n",
    "train_dataset=train_dataset.map(lambda x,y:(data_agumentation(x),y))"
   ]
  },
  {
   "cell_type": "code",
   "execution_count": 16,
   "id": "6acc1e8d",
   "metadata": {},
   "outputs": [],
   "source": [
    "#adding prefetch to data so gpu doesnt remain idle-prepares a batch of data in ram\n",
    "AUTOTUNE=tf.data.AUTOTUNE\n",
    "train_dataset=train_dataset.prefetch(buffer_size=AUTOTUNE)\n",
    "val_dataset=val_dataset.prefetch(buffer_size=AUTOTUNE)"
   ]
  },
  {
   "cell_type": "code",
   "execution_count": 17,
   "id": "58d864a4",
   "metadata": {},
   "outputs": [],
   "source": [
    "#initializing model\n",
    "model=tf.keras.Sequential([\n",
    "    tf.keras.layers.Conv2D(filters=32,kernel_size=(3,3),activation=\"relu\",input_shape=(48,48,1)),\n",
    "    tf.keras.layers.MaxPool2D(pool_size=2),\n",
    "    tf.keras.layers.Conv2D(filters=64,kernel_size=(3,3),activation=\"relu\"),\n",
    "    tf.keras.layers.MaxPool2D(pool_size=2),\n",
    "    tf.keras.layers.Conv2D(filters=64,kernel_size=(3,3),activation=\"relu\"),\n",
    "    tf.keras.layers.MaxPool2D(pool_size=2),\n",
    "    tf.keras.layers.Conv2D(filters=128,kernel_size=(3,3),activation=\"relu\"),\n",
    "    tf.keras.layers.MaxPool2D(pool_size=2),\n",
    "    tf.keras.layers.Flatten(),\n",
    "    tf.keras.layers.Dense(units=256,activation=\"relu\"),\n",
    "    tf.keras.layers.Dense(units=256,activation=\"relu\"),\n",
    "    tf.keras.layers.Dense(units=7,activation=\"softmax\"),\n",
    "])"
   ]
  },
  {
   "cell_type": "code",
   "execution_count": 18,
   "id": "21c389e5",
   "metadata": {},
   "outputs": [],
   "source": [
    "from tensorflow.keras.callbacks import EarlyStopping\n",
    "early_stop = EarlyStopping(\n",
    "    monitor='val_loss',   # track validation loss\n",
    "    patience=10,           # stop if no improvement after 5 epochs\n",
    "    restore_best_weights=True  # rollback to best model\n",
    ")\n"
   ]
  },
  {
   "cell_type": "code",
   "execution_count": 19,
   "id": "a415957c",
   "metadata": {},
   "outputs": [],
   "source": [
    "model.compile(optimizer='adam',loss=\"sparse_categorical_crossentropy\",metrics=['accuracy'])"
   ]
  },
  {
   "cell_type": "code",
   "execution_count": null,
   "id": "e6311c12",
   "metadata": {},
   "outputs": [
    {
     "name": "stdout",
     "output_type": "stream",
     "text": [
      "[PhysicalDevice(name='/physical_device:GPU:0', device_type='GPU')]\n",
      "Epoch 1/50\n",
      "898/898 [==============================] - 69s 75ms/step - loss: 1.7808 - accuracy: 0.2659 - val_loss: 1.7108 - val_accuracy: 0.3036\n",
      "Epoch 2/50\n",
      "898/898 [==============================] - 33s 37ms/step - loss: 1.6405 - accuracy: 0.3425 - val_loss: 1.5282 - val_accuracy: 0.4089\n",
      "Epoch 3/50\n",
      "898/898 [==============================] - 36s 40ms/step - loss: 1.5488 - accuracy: 0.3909 - val_loss: 1.4400 - val_accuracy: 0.4452\n",
      "Epoch 4/50\n",
      "898/898 [==============================] - 35s 39ms/step - loss: 1.4738 - accuracy: 0.4279 - val_loss: 1.4078 - val_accuracy: 0.4579\n",
      "Epoch 5/50\n",
      "898/898 [==============================] - 40s 44ms/step - loss: 1.4177 - accuracy: 0.4524 - val_loss: 1.3455 - val_accuracy: 0.4720\n",
      "Epoch 6/50\n",
      "898/898 [==============================] - 38s 43ms/step - loss: 1.3772 - accuracy: 0.4687 - val_loss: 1.3431 - val_accuracy: 0.4896\n",
      "Epoch 7/50\n",
      "898/898 [==============================] - 33s 36ms/step - loss: 1.3408 - accuracy: 0.4838 - val_loss: 1.3093 - val_accuracy: 0.4916\n",
      "Epoch 8/50\n",
      "898/898 [==============================] - 34s 38ms/step - loss: 1.3172 - accuracy: 0.4935 - val_loss: 1.3114 - val_accuracy: 0.5033\n",
      "Epoch 9/50\n",
      "898/898 [==============================] - 35s 39ms/step - loss: 1.2987 - accuracy: 0.5025 - val_loss: 1.2753 - val_accuracy: 0.5100\n",
      "Epoch 10/50\n",
      "898/898 [==============================] - 34s 38ms/step - loss: 1.2815 - accuracy: 0.5105 - val_loss: 1.3108 - val_accuracy: 0.5033\n",
      "Epoch 11/50\n",
      "898/898 [==============================] - 33s 36ms/step - loss: 1.2666 - accuracy: 0.5145 - val_loss: 1.3325 - val_accuracy: 0.5045\n",
      "Epoch 12/50\n",
      "898/898 [==============================] - 39s 44ms/step - loss: 1.2503 - accuracy: 0.5152 - val_loss: 1.2948 - val_accuracy: 0.5056\n",
      "Epoch 13/50\n",
      "898/898 [==============================] - 38s 42ms/step - loss: 1.2363 - accuracy: 0.5251 - val_loss: 1.2516 - val_accuracy: 0.5220\n",
      "Epoch 14/50\n",
      "898/898 [==============================] - 36s 41ms/step - loss: 1.2183 - accuracy: 0.5337 - val_loss: 1.2702 - val_accuracy: 0.5107\n",
      "Epoch 15/50\n",
      "898/898 [==============================] - 34s 38ms/step - loss: 1.2121 - accuracy: 0.5337 - val_loss: 1.2678 - val_accuracy: 0.5252\n",
      "Epoch 16/50\n",
      "898/898 [==============================] - 35s 38ms/step - loss: 1.2053 - accuracy: 0.5408 - val_loss: 1.2472 - val_accuracy: 0.5334\n",
      "Epoch 17/50\n",
      "898/898 [==============================] - 36s 40ms/step - loss: 1.2003 - accuracy: 0.5417 - val_loss: 1.2419 - val_accuracy: 0.5329\n",
      "Epoch 18/50\n",
      "898/898 [==============================] - 35s 39ms/step - loss: 1.1872 - accuracy: 0.5462 - val_loss: 1.2360 - val_accuracy: 0.5343\n",
      "Epoch 19/50\n",
      "898/898 [==============================] - 35s 39ms/step - loss: 1.1830 - accuracy: 0.5517 - val_loss: 1.2460 - val_accuracy: 0.5352\n",
      "Epoch 20/50\n",
      "898/898 [==============================] - 36s 40ms/step - loss: 1.1730 - accuracy: 0.5521 - val_loss: 1.2388 - val_accuracy: 0.5252\n",
      "Epoch 21/50\n",
      "898/898 [==============================] - 36s 40ms/step - loss: 1.1695 - accuracy: 0.5531 - val_loss: 1.2503 - val_accuracy: 0.5308\n",
      "Epoch 22/50\n",
      "898/898 [==============================] - 36s 39ms/step - loss: 1.1624 - accuracy: 0.5607 - val_loss: 1.2562 - val_accuracy: 0.5348\n",
      "Epoch 23/50\n",
      "898/898 [==============================] - 35s 39ms/step - loss: 1.1541 - accuracy: 0.5597 - val_loss: 1.2861 - val_accuracy: 0.5146\n",
      "Epoch 24/50\n",
      "898/898 [==============================] - 35s 39ms/step - loss: 1.1491 - accuracy: 0.5622 - val_loss: 1.2283 - val_accuracy: 0.5387\n",
      "Epoch 25/50\n",
      "898/898 [==============================] - 32s 36ms/step - loss: 1.1448 - accuracy: 0.5616 - val_loss: 1.2393 - val_accuracy: 0.5404\n",
      "Epoch 26/50\n",
      "898/898 [==============================] - 37s 41ms/step - loss: 1.1387 - accuracy: 0.5650 - val_loss: 1.2405 - val_accuracy: 0.5340\n",
      "Epoch 27/50\n",
      "898/898 [==============================] - 36s 41ms/step - loss: 1.1312 - accuracy: 0.5667 - val_loss: 1.2514 - val_accuracy: 0.5346\n",
      "Epoch 28/50\n",
      "898/898 [==============================] - 36s 39ms/step - loss: 1.1325 - accuracy: 0.5664 - val_loss: 1.2300 - val_accuracy: 0.5383\n",
      "Epoch 29/50\n",
      "898/898 [==============================] - 36s 40ms/step - loss: 1.1180 - accuracy: 0.5752 - val_loss: 1.2376 - val_accuracy: 0.5358\n",
      "Epoch 30/50\n",
      "898/898 [==============================] - 35s 39ms/step - loss: 1.1147 - accuracy: 0.5734 - val_loss: 1.2635 - val_accuracy: 0.5383\n",
      "Epoch 31/50\n",
      "898/898 [==============================] - 35s 39ms/step - loss: 1.1139 - accuracy: 0.5723 - val_loss: 1.2655 - val_accuracy: 0.5365\n",
      "Epoch 32/50\n",
      "898/898 [==============================] - 36s 41ms/step - loss: 1.1063 - accuracy: 0.5789 - val_loss: 1.2502 - val_accuracy: 0.5357\n",
      "Epoch 33/50\n",
      "898/898 [==============================] - 35s 39ms/step - loss: 1.1065 - accuracy: 0.5753 - val_loss: 1.2551 - val_accuracy: 0.5357\n",
      "Epoch 34/50\n",
      "898/898 [==============================] - 34s 38ms/step - loss: 1.1000 - accuracy: 0.5803 - val_loss: 1.2293 - val_accuracy: 0.5426\n"
     ]
    },
    {
     "data": {
      "text/plain": [
       "<keras.callbacks.History at 0x1e163616860>"
      ]
     },
     "execution_count": 20,
     "metadata": {},
     "output_type": "execute_result"
    }
   ],
   "source": [
    "print(tf.config.list_physical_devices('GPU'))\n",
    "model.fit(x=train_dataset,validation_data=val_dataset,epochs=50,callbacks=[early_stop])"
   ]
  },
  {
   "cell_type": "code",
   "execution_count": 21,
   "id": "9a57eac6",
   "metadata": {},
   "outputs": [],
   "source": [
    "model.save('emotion.h5')"
   ]
  }
 ],
 "metadata": {
  "kernelspec": {
   "display_name": "tensorflow",
   "language": "python",
   "name": "python3"
  },
  "language_info": {
   "codemirror_mode": {
    "name": "ipython",
    "version": 3
   },
   "file_extension": ".py",
   "mimetype": "text/x-python",
   "name": "python",
   "nbconvert_exporter": "python",
   "pygments_lexer": "ipython3",
   "version": "3.10.18"
  }
 },
 "nbformat": 4,
 "nbformat_minor": 5
}
